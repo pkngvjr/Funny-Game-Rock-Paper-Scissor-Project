{
 "cells": [
  {
   "cell_type": "code",
   "execution_count": 1,
   "id": "a800d594",
   "metadata": {},
   "outputs": [
    {
     "name": "stdout",
     "output_type": "stream",
     "text": [
      "Ankit Turn: Rock(r) Paper(p) or Scissor(s)?\n",
      "Rishu Turn: Rock(r) Paper(p) Scissor(s)?p\n",
      "Ankit chose p\n",
      "Rishu chose p\n",
      "The game is a tie!\n"
     ]
    }
   ],
   "source": [
    "  #Funny Game (Rock Paper,Scissor)\n",
    "\n",
    "import random\n",
    "\n",
    "def gamewin(Ankit,Rishu):   # if two value are equal,declare a tie!\n",
    "    if Ankit==Rishu:\n",
    "        return None\n",
    "    elif Ankit=='r':       #check for all possibilities when Ankit chose r\n",
    "        if Rishu=='p':\n",
    "            return True\n",
    "        elif Rishu=='s':\n",
    "            return False\n",
    "    elif Ankit=='p':       #check for all possibilities when Ankit chose p\n",
    "        if Rishu=='s':\n",
    "            return True\n",
    "        elif Rishu=='r':\n",
    "            return False\n",
    "    elif Ankit=='s':       #check for all possibilities when Ankit chose s\n",
    "        if Rishu=='r':\n",
    "            return True\n",
    "        elif Rishu=='p':\n",
    "            return False\n",
    "print('Ankit Turn: Rock(r) Paper(p) or Scissor(s)?')\n",
    "randNo=random.randint(1,3)\n",
    "if randNo==1:\n",
    "    Ankit='r'\n",
    "elif randNo==2:\n",
    "    Ankit='p'\n",
    "elif randNo==3:\n",
    "    Ankit='s'\n",
    "Rishu=input('Rishu Turn: Rock(r) Paper(p) Scissor(s)?')\n",
    "a=gamewin(Ankit, Rishu)\n",
    "print(f\"Ankit chose {Ankit}\")\n",
    "print(f\"Rishu chose {Rishu}\")\n",
    "\n",
    "if a==None:\n",
    "    print('The game is a tie!')\n",
    "elif a:\n",
    "    print('Rishu win!')\n",
    "else:\n",
    "    print('Rishu lose!')"
   ]
  },
  {
   "cell_type": "code",
   "execution_count": null,
   "id": "e1c3db17",
   "metadata": {},
   "outputs": [],
   "source": []
  }
 ],
 "metadata": {
  "kernelspec": {
   "display_name": "Python 3",
   "language": "python",
   "name": "python3"
  },
  "language_info": {
   "codemirror_mode": {
    "name": "ipython",
    "version": 3
   },
   "file_extension": ".py",
   "mimetype": "text/x-python",
   "name": "python",
   "nbconvert_exporter": "python",
   "pygments_lexer": "ipython3",
   "version": "3.8.8"
  }
 },
 "nbformat": 4,
 "nbformat_minor": 5
}
